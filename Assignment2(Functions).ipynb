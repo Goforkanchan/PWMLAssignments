{
 "cells": [
  {
   "cell_type": "markdown",
   "id": "996592ae-9e52-426f-bcf9-53144e0951fd",
   "metadata": {},
   "source": [
    "Q1. Which keyword is used to create a function? Create a function to return a list of odd numbers in the\n",
    "range of 1 to 25.\n"
   ]
  },
  {
   "cell_type": "markdown",
   "id": "32a98d39-a327-4ea7-90ed-b4c7cf3d0dd8",
   "metadata": {},
   "source": [
    "def is used to create functions."
   ]
  },
  {
   "cell_type": "code",
   "execution_count": 8,
   "id": "25819598-5de2-42ff-8db0-68bff0952ac2",
   "metadata": {},
   "outputs": [],
   "source": [
    "x = [i for i in range(1, 26) if i%2 != 0]"
   ]
  },
  {
   "cell_type": "code",
   "execution_count": 9,
   "id": "7128bf5c-2b99-48a7-9f02-b8e78359fe13",
   "metadata": {},
   "outputs": [
    {
     "data": {
      "text/plain": [
       "[1, 3, 5, 7, 9, 11, 13, 15, 17, 19, 21, 23, 25]"
      ]
     },
     "execution_count": 9,
     "metadata": {},
     "output_type": "execute_result"
    }
   ],
   "source": [
    "x"
   ]
  },
  {
   "cell_type": "markdown",
   "id": "18d0bf91-ab3f-4f89-8b75-9966a03bf912",
   "metadata": {},
   "source": [
    "Q2. Why *args and **kwargs is used in some functions? Create a function each for *args and **kwargs to\n",
    "demonstrate their use."
   ]
  },
  {
   "cell_type": "markdown",
   "id": "471bcc58-684c-4c27-8cee-9ff3861f2190",
   "metadata": {},
   "source": [
    "*args is when any number of arguments can be passed. Whatever order they are passed in, are processed same.\n",
    "**kwargs is when the arguments are passed as key, value pairs."
   ]
  },
  {
   "cell_type": "code",
   "execution_count": 1,
   "id": "9cae9095-a41e-409c-8ed4-924c33c9d4d8",
   "metadata": {},
   "outputs": [
    {
     "name": "stdout",
     "output_type": "stream",
     "text": [
      "('Demo', 'Of', 'Args', 1)\n"
     ]
    }
   ],
   "source": [
    "def func1(*args):\n",
    "    return args\n",
    "\n",
    "print(func1(\"Demo\", \"Of\", \"Args\", 1))"
   ]
  },
  {
   "cell_type": "code",
   "execution_count": 3,
   "id": "f23f131f-f4fb-4ec4-b9c7-101e263296ab",
   "metadata": {},
   "outputs": [
    {
     "name": "stdout",
     "output_type": "stream",
     "text": [
      "{'Country': 'India', 'State': 'Maharashtra'}\n"
     ]
    }
   ],
   "source": [
    "def func2(**kwargs):\n",
    "    return kwargs\n",
    "\n",
    "print(func2(Country = \"India\", State = \"Maharashtra\"))"
   ]
  },
  {
   "cell_type": "markdown",
   "id": "0791e9d4-436d-4a42-b615-4d3d97825513",
   "metadata": {},
   "source": [
    "Q3. What is an iterator in python? Name the method used to initialise the iterator object and the method\n",
    "used for iteration. Use these methods to print the first five elements of the given list [2, 4, 6, 8, 10, 12, 14, 16,\n",
    "18, 20]."
   ]
  },
  {
   "cell_type": "markdown",
   "id": "fc903cd7-916c-4a38-93bc-7c1058d1b25e",
   "metadata": {},
   "source": [
    "Iterator is used to iterate an iterable object like list, set, tuple, dict. iter() method is used to initialize the iterator object."
   ]
  },
  {
   "cell_type": "code",
   "execution_count": 6,
   "id": "fc957d1a-9d3e-4976-84a7-573dc01e87b8",
   "metadata": {},
   "outputs": [],
   "source": [
    "l1 = [2, 4, 6, 8, 10, 12, 14, 16, 18, 20]\n",
    "iterator = iter(l1)"
   ]
  },
  {
   "cell_type": "code",
   "execution_count": 7,
   "id": "2dee43c0-35db-451a-a314-e030c0d73f7a",
   "metadata": {},
   "outputs": [
    {
     "name": "stdout",
     "output_type": "stream",
     "text": [
      "2\n",
      "4\n",
      "6\n",
      "8\n",
      "10\n"
     ]
    }
   ],
   "source": [
    "for i in range(5):\n",
    "    print(next(iterator))"
   ]
  },
  {
   "cell_type": "markdown",
   "id": "d3396198-9782-4ba3-9913-f881d0513de7",
   "metadata": {},
   "source": [
    "Q4. What is a generator function in python? Why yield keyword is used? Give an example of a generator\n",
    "function."
   ]
  },
  {
   "cell_type": "markdown",
   "id": "563d56fd-662e-4b92-a213-26584233a9e2",
   "metadata": {},
   "source": [
    "Generator functions are similar to normal functions but need a yield keyword instead of return to differentiate. \n",
    "They are used to store the element as and when encountered. They are usually used when there are large files and \n",
    "instead of storing/returning everything, only required variables can be stored, returned.\n",
    "yield keyword is used to get the value of generator and pauses the execution of program till the next next() call."
   ]
  },
  {
   "cell_type": "code",
   "execution_count": 9,
   "id": "e8b4646d-eff3-4758-8548-f276450098ac",
   "metadata": {},
   "outputs": [],
   "source": [
    "def generatorExample(x):\n",
    "    yield(x)"
   ]
  },
  {
   "cell_type": "code",
   "execution_count": 10,
   "id": "1c57b3fc-34bd-4484-96f6-db99291c477b",
   "metadata": {},
   "outputs": [
    {
     "name": "stdout",
     "output_type": "stream",
     "text": [
      "5\n"
     ]
    }
   ],
   "source": [
    "gen = generatorExample(5)\n",
    "print(next(gen))"
   ]
  },
  {
   "cell_type": "code",
   "execution_count": 16,
   "id": "94ddbe2e-c286-48c7-ae23-1610dde54232",
   "metadata": {},
   "outputs": [],
   "source": [
    "def generateSquaresAndCubes(x):\n",
    "    yield(x*x)\n",
    "    yield(x*x*x)\n",
    "    \n",
    "gen = generateSquaresAndCubes(5)"
   ]
  },
  {
   "cell_type": "code",
   "execution_count": 12,
   "id": "2d558ac8-a067-4ad5-ab20-14f30d695a8d",
   "metadata": {},
   "outputs": [
    {
     "name": "stdout",
     "output_type": "stream",
     "text": [
      "25\n"
     ]
    }
   ],
   "source": [
    "print(next(gen))"
   ]
  },
  {
   "cell_type": "code",
   "execution_count": 13,
   "id": "9c28f9b4-5605-495e-a86b-d796d6bb542f",
   "metadata": {},
   "outputs": [
    {
     "name": "stdout",
     "output_type": "stream",
     "text": [
      "125\n"
     ]
    }
   ],
   "source": [
    "print(next(gen))"
   ]
  },
  {
   "cell_type": "code",
   "execution_count": 17,
   "id": "245298e3-4cab-4842-9542-5dcd667415b1",
   "metadata": {},
   "outputs": [
    {
     "name": "stdout",
     "output_type": "stream",
     "text": [
      "25\n",
      "125\n"
     ]
    }
   ],
   "source": [
    "for i in gen:\n",
    "    print(i)"
   ]
  },
  {
   "cell_type": "markdown",
   "id": "a8829042-945a-479e-b267-38933ba613d4",
   "metadata": {},
   "source": [
    "Q5. Create a generator function for prime numbers less than 1000. Use the next() method to print the\n",
    "first 20 prime numbers."
   ]
  },
  {
   "cell_type": "code",
   "execution_count": 53,
   "id": "1414e460-855a-4ddf-b651-bd7c2dc8b8c5",
   "metadata": {},
   "outputs": [],
   "source": [
    "import math\n",
    "def isPrime():\n",
    "    for i in range(2, 1000):\n",
    "        # print(i)\n",
    "        flag = True\n",
    "        for j in range(2, int(math.sqrt(i))+1): \n",
    "            if i % j == 0:\n",
    "                flag = False\n",
    "                break\n",
    "        if flag :\n",
    "            yield i "
   ]
  },
  {
   "cell_type": "code",
   "execution_count": 54,
   "id": "42e4c7cf-fd80-4368-9359-bae0f0bbcf90",
   "metadata": {},
   "outputs": [
    {
     "name": "stdout",
     "output_type": "stream",
     "text": [
      "2\n",
      "3\n",
      "5\n",
      "7\n",
      "11\n",
      "13\n",
      "17\n",
      "19\n",
      "23\n",
      "29\n",
      "31\n",
      "37\n",
      "41\n",
      "43\n",
      "47\n",
      "53\n",
      "59\n",
      "61\n",
      "67\n",
      "71\n"
     ]
    }
   ],
   "source": [
    "iterator = isPrime()\n",
    "for i in range(1, 21):\n",
    "    #gen = isPrime(i)\n",
    "    print(next(iterator))"
   ]
  },
  {
   "cell_type": "code",
   "execution_count": null,
   "id": "d0928ba7-8683-4e86-99be-ea5e1dcee202",
   "metadata": {},
   "outputs": [],
   "source": []
  }
 ],
 "metadata": {
  "kernelspec": {
   "display_name": "Python 3 (ipykernel)",
   "language": "python",
   "name": "python3"
  },
  "language_info": {
   "codemirror_mode": {
    "name": "ipython",
    "version": 3
   },
   "file_extension": ".py",
   "mimetype": "text/x-python",
   "name": "python",
   "nbconvert_exporter": "python",
   "pygments_lexer": "ipython3",
   "version": "3.10.8"
  }
 },
 "nbformat": 4,
 "nbformat_minor": 5
}
