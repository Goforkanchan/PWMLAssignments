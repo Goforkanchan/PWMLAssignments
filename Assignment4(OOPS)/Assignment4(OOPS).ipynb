{
 "cells": [
  {
   "cell_type": "markdown",
   "id": "733555c3-1e28-4fa1-a2e9-999d9ca8d62d",
   "metadata": {},
   "source": [
    "Q1. Explain Class and Object with respect to Object-Oriented Programming. Give a suitable example."
   ]
  },
  {
   "cell_type": "markdown",
   "id": "e6d41042-109d-4b91-8749-647537b348f7",
   "metadata": {},
   "source": [
    "Objects can be defined to reprsent properties, behaviours of the things and class is a collection of objects. "
   ]
  },
  {
   "cell_type": "code",
   "execution_count": 1,
   "id": "f6b80966-f548-4ea7-a6c8-65f7944945fe",
   "metadata": {},
   "outputs": [],
   "source": [
    "class student():\n",
    "    def __init__(self,name,age):   \n",
    "        self.name = name \n",
    "        self.age = age\n",
    "     \n",
    " \n",
    "student1 = student(\"Saee\", 4) "
   ]
  },
  {
   "cell_type": "code",
   "execution_count": 2,
   "id": "3653d1db-8680-4bc8-a1de-3f2c361aed7b",
   "metadata": {},
   "outputs": [
    {
     "data": {
      "text/plain": [
       "'Saee'"
      ]
     },
     "execution_count": 2,
     "metadata": {},
     "output_type": "execute_result"
    }
   ],
   "source": [
    "student1.name\n"
   ]
  },
  {
   "cell_type": "code",
   "execution_count": 3,
   "id": "c4925e09-7648-41e8-a3cc-4f3d008c9b0f",
   "metadata": {},
   "outputs": [
    {
     "data": {
      "text/plain": [
       "4"
      ]
     },
     "execution_count": 3,
     "metadata": {},
     "output_type": "execute_result"
    }
   ],
   "source": [
    "student1.age"
   ]
  },
  {
   "cell_type": "markdown",
   "id": "4c957f7e-36e7-4396-bb60-85fb8332cba7",
   "metadata": {},
   "source": [
    "Q2. Name the four pillars of OOPs."
   ]
  },
  {
   "cell_type": "markdown",
   "id": "d4fa17ed-54cb-47c6-8bbe-8b53e3c96b5f",
   "metadata": {},
   "source": [
    "Four pillars are:\n",
    "Inheritance\n",
    "Polymorphism\n",
    "Abstraction\n",
    "Encapsulation"
   ]
  },
  {
   "cell_type": "markdown",
   "id": "e5a7ae9e-b4b0-449e-9246-120ca8697e71",
   "metadata": {},
   "source": [
    "Q3. Explain why the init() function is used. Give a suitable example."
   ]
  },
  {
   "cell_type": "markdown",
   "id": "1bd66cff-4c28-4616-b30c-86e09cd75853",
   "metadata": {},
   "source": [
    "init() function is used to initialize class variables and acts as a constructor."
   ]
  },
  {
   "cell_type": "code",
   "execution_count": 3,
   "id": "fb9cf2ad-230e-4242-b95d-7798308a3a69",
   "metadata": {},
   "outputs": [
    {
     "name": "stdout",
     "output_type": "stream",
     "text": [
      "Arjun is 1.5 years old\n"
     ]
    }
   ],
   "source": [
    "class Student:\n",
    "    def __init__(self, name, age):\n",
    "        self.name = name\n",
    "        self.age = age\n",
    "        \n",
    "student1 = Student(\"Arjun\", 1.5)\n",
    "print (\"{name} is {age} years old\".format(name = student1.name, age = student1.age))"
   ]
  },
  {
   "cell_type": "markdown",
   "id": "41dd8790-9ad3-4324-b3f1-9a64008187f6",
   "metadata": {},
   "source": [
    "Q4. Why self is used in OOPs?"
   ]
  },
  {
   "cell_type": "markdown",
   "id": "b18a90a8-0ae7-4ff9-8b3d-95e8cc13d522",
   "metadata": {},
   "source": [
    "self refers to the current instance of class and is used to assign the value to the class variables"
   ]
  },
  {
   "cell_type": "markdown",
   "id": "6bd07e50-9bef-4764-815c-a6a3e2dfe1b7",
   "metadata": {},
   "source": [
    "Q5. What is inheritance? Give an example for each type of inheritance."
   ]
  },
  {
   "cell_type": "markdown",
   "id": "8c289b62-f43c-421b-b8d6-cc70a3fe592c",
   "metadata": {},
   "source": [
    "In this feature called inheritance, one class can inherit all the properties of other class.\n",
    "The class getting inherited is parent class and the one that inherits is called child class."
   ]
  },
  {
   "cell_type": "raw",
   "id": "569e119b-9ae9-4736-8ca9-2473268a5e35",
   "metadata": {},
   "source": [
    "1. Single Inheritance"
   ]
  },
  {
   "cell_type": "code",
   "execution_count": 29,
   "id": "3bec9fb8-ddc6-4278-a438-5e80ecbc887a",
   "metadata": {},
   "outputs": [
    {
     "name": "stdout",
     "output_type": "stream",
     "text": [
      "b\n",
      "d\n"
     ]
    }
   ],
   "source": [
    "class B:\n",
    "    def b(self):\n",
    "        print('b')\n",
    "\n",
    "\n",
    "\n",
    "class D(B):\n",
    "    def d(self):\n",
    "        print('d')\n",
    "\n",
    "\n",
    "d = D()\n",
    "d.b()\n",
    "d.d()"
   ]
  },
  {
   "cell_type": "raw",
   "id": "5c3c2146-646e-4bc0-8b45-84510787aa0d",
   "metadata": {},
   "source": [
    "2. Multiple Inheritance"
   ]
  },
  {
   "cell_type": "code",
   "execution_count": 28,
   "id": "12c44200-b692-42cf-9112-17ac8e116080",
   "metadata": {},
   "outputs": [
    {
     "name": "stdout",
     "output_type": "stream",
     "text": [
      "b\n",
      "c\n",
      "d\n"
     ]
    }
   ],
   "source": [
    "class B:\n",
    "    def b(self):\n",
    "        print('b')\n",
    "\n",
    "\n",
    "class C:\n",
    "    def c(self):\n",
    "        print('c')\n",
    "\n",
    "\n",
    "class D(B, C):\n",
    "    def d(self):\n",
    "        print('d')\n",
    "\n",
    "\n",
    "d = D()\n",
    "d.b()\n",
    "d.c()\n",
    "d.d()"
   ]
  },
  {
   "cell_type": "markdown",
   "id": "97a7b326-07f0-4ac5-9dde-3ceab4aac978",
   "metadata": {},
   "source": [
    "3. Multilevel Inheritance"
   ]
  },
  {
   "cell_type": "code",
   "execution_count": 30,
   "id": "ff1054ec-d1b7-42e5-9ef2-98f88154c4f1",
   "metadata": {},
   "outputs": [
    {
     "name": "stdout",
     "output_type": "stream",
     "text": [
      "b\n",
      "c\n",
      "d\n"
     ]
    }
   ],
   "source": [
    "class B:\n",
    "    def b(self):\n",
    "        print('b')\n",
    "\n",
    "\n",
    "class C(B):\n",
    "    def c(self):\n",
    "        print('c')\n",
    "\n",
    "\n",
    "class D(C):\n",
    "    def d(self):\n",
    "        print('d')\n",
    "\n",
    "\n",
    "d = D()\n",
    "d.b()\n",
    "d.c()\n",
    "d.d()"
   ]
  },
  {
   "cell_type": "markdown",
   "id": "31820a71-02e4-4136-92dd-999b4964e203",
   "metadata": {},
   "source": [
    "4. Hierarchical Inheritance"
   ]
  },
  {
   "cell_type": "code",
   "execution_count": null,
   "id": "4fe63b0b-ce0f-489f-96cc-18d95833c027",
   "metadata": {},
   "outputs": [],
   "source": [
    "class B:\n",
    "    def b(self):\n",
    "        print('b')\n",
    "\n",
    "\n",
    "class C(B):\n",
    "    def c(self):\n",
    "        print('c')\n",
    "\n",
    "\n",
    "class D(B):\n",
    "    def d(self):\n",
    "        print('d')\n",
    "\n",
    "\n",
    "d = D()\n",
    "c = C()\n",
    "d.b()\n",
    "d.d()"
   ]
  }
 ],
 "metadata": {
  "kernelspec": {
   "display_name": "Python 3 (ipykernel)",
   "language": "python",
   "name": "python3"
  },
  "language_info": {
   "codemirror_mode": {
    "name": "ipython",
    "version": 3
   },
   "file_extension": ".py",
   "mimetype": "text/x-python",
   "name": "python",
   "nbconvert_exporter": "python",
   "pygments_lexer": "ipython3",
   "version": "3.10.8"
  }
 },
 "nbformat": 4,
 "nbformat_minor": 5
}
