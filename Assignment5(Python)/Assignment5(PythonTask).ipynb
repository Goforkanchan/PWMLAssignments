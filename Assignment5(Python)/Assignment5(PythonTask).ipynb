{
 "cells": [
  {
   "cell_type": "markdown",
   "id": "0ec967cf-6121-4206-9fa3-19b5f88844d9",
   "metadata": {},
   "source": [
    "Q1.Who developed Python Programming language?"
   ]
  },
  {
   "cell_type": "markdown",
   "id": "6314e60f-9dee-446c-b167-b82f9e74c215",
   "metadata": {},
   "source": [
    "Guido van Russom developed Python Programming language."
   ]
  },
  {
   "cell_type": "markdown",
   "id": "f9319c67-72e1-4b55-ac97-5d8237eca2c4",
   "metadata": {},
   "source": [
    "Q2. Which type of programming does python support?"
   ]
  },
  {
   "cell_type": "markdown",
   "id": "e8b62859-20ff-4f1b-9471-869733beb82e",
   "metadata": {},
   "source": [
    "Object oriented, structured and functional programming."
   ]
  },
  {
   "cell_type": "markdown",
   "id": "6b01cdb6-533a-43ea-87cd-782e13573c28",
   "metadata": {},
   "source": [
    "Q3. Is Python case sensitive when dealing with identifiers?"
   ]
  },
  {
   "cell_type": "markdown",
   "id": "9779757b-dc12-423c-b316-8349ee2883a8",
   "metadata": {},
   "source": [
    "Yes, it is."
   ]
  },
  {
   "cell_type": "markdown",
   "id": "d27f66ba-5baa-413b-9f8f-986bda6c2564",
   "metadata": {},
   "source": [
    "Q4. What is the correct extension of the python file?"
   ]
  },
  {
   "cell_type": "markdown",
   "id": "80668e3f-1967-43e8-9033-a2ce22501096",
   "metadata": {},
   "source": [
    ".py is the correct extension."
   ]
  },
  {
   "cell_type": "markdown",
   "id": "c08ee930-2ab5-435f-afc0-c43a82ce57ea",
   "metadata": {},
   "source": [
    "Q5. Is Python compiled or interpreted language?"
   ]
  },
  {
   "cell_type": "markdown",
   "id": "ec1ed18a-8068-4f21-8865-9e77a9109dc1",
   "metadata": {},
   "source": [
    "Python is an interpreted language."
   ]
  },
  {
   "cell_type": "markdown",
   "id": "904b7e16-eb26-45b6-9e04-4b117aa77004",
   "metadata": {},
   "source": [
    "Q6. Name a few blocks of code used to define in Python language."
   ]
  },
  {
   "cell_type": "markdown",
   "id": "d6197504-2017-4e73-a35d-b78f5cb82d20",
   "metadata": {},
   "source": [
    "1. Module\n",
    "2. File\n",
    "3. Function\n",
    "4. Class"
   ]
  },
  {
   "cell_type": "markdown",
   "id": "ee800df9-6cfd-4728-9455-fadcdafe8bde",
   "metadata": {},
   "source": [
    "Q7. State a character used to give single line comment in Python."
   ]
  },
  {
   "cell_type": "markdown",
   "id": "65711060-377e-4ff6-8ae0-7444e8fd3e45",
   "metadata": {},
   "source": [
    "\"#\" is used to comment a single line."
   ]
  },
  {
   "cell_type": "markdown",
   "id": "c0a78f90-bc2d-4180-9e56-6ad320431af3",
   "metadata": {},
   "source": [
    "Q8. Mention functions that are used to find the version of Python we are currently working on."
   ]
  },
  {
   "cell_type": "code",
   "execution_count": 4,
   "id": "26e6407c-57f2-45d4-8948-260723dd2404",
   "metadata": {},
   "outputs": [
    {
     "data": {
      "text/plain": [
       "'3.10.8 | packaged by conda-forge | (main, Nov 22 2022, 08:26:04) [GCC 10.4.0]'"
      ]
     },
     "execution_count": 4,
     "metadata": {},
     "output_type": "execute_result"
    }
   ],
   "source": [
    "import sys\n",
    "sys.version"
   ]
  },
  {
   "cell_type": "markdown",
   "id": "2b6f0dd0-3664-4a59-ab46-c098f31f9527",
   "metadata": {},
   "source": [
    "Q9. Python supports the creation of anonymous functions at runtime using a fucntion called"
   ]
  },
  {
   "cell_type": "markdown",
   "id": "c759d169-8e6e-4bc7-b73f-a8c81cb9db0f",
   "metadata": {},
   "source": [
    "Lambda functions"
   ]
  },
  {
   "cell_type": "markdown",
   "id": "571de12d-69e3-4a47-9a81-5155a9594ec0",
   "metadata": {},
   "source": [
    "Q10. What does pip stands for?"
   ]
  },
  {
   "cell_type": "markdown",
   "id": "d53130cf-12e2-435b-b8a4-3a208dd10050",
   "metadata": {},
   "source": [
    "Python Install Packages"
   ]
  },
  {
   "cell_type": "markdown",
   "id": "2884e210-66fd-433c-a5f4-cff3fac54890",
   "metadata": {},
   "source": [
    "Q11. Name a few built-in functions in python."
   ]
  },
  {
   "cell_type": "markdown",
   "id": "19cd11ab-7767-4675-8ce6-90352d88f2af",
   "metadata": {},
   "source": [
    "print()\n",
    "split()\n",
    "len()\n",
    "append()\n",
    "extend()\n",
    "type()\n",
    "str()"
   ]
  },
  {
   "cell_type": "markdown",
   "id": "4aff4a16-107b-4613-bbb9-a6cb35c2561f",
   "metadata": {},
   "source": [
    "Q12. What is the maximum possible length of an identifier in Python?"
   ]
  },
  {
   "cell_type": "markdown",
   "id": "6f7c28a9-b598-4d58-8670-05eff7b8eb97",
   "metadata": {},
   "source": [
    "79"
   ]
  },
  {
   "cell_type": "markdown",
   "id": "97b11851-2614-443c-9b0b-c269b482e200",
   "metadata": {},
   "source": [
    "Q13. What are the benefits of using Python?"
   ]
  },
  {
   "cell_type": "markdown",
   "id": "9bd6034c-3427-40bd-8317-8bba551316bb",
   "metadata": {},
   "source": [
    "1. It is open source, free.\n",
    "2. It is faster.\n",
    "3. Supports OOPS\n",
    "4. Has support of different libraries"
   ]
  },
  {
   "cell_type": "markdown",
   "id": "ee797ed1-db7b-4adc-9f1d-bd8d914d169c",
   "metadata": {},
   "source": [
    "Q14. How is memory managed in Python?"
   ]
  },
  {
   "cell_type": "markdown",
   "id": "50068384-7622-4b3a-a4b1-3df0eb1378ed",
   "metadata": {},
   "source": [
    "Memory management in Python involves a private heap containing all Python objects and data structures\n",
    "and is managed internally by Pyhton memory Manager."
   ]
  },
  {
   "cell_type": "markdown",
   "id": "5dbb74b4-0b63-44f0-9823-6a8d5d67b573",
   "metadata": {},
   "source": [
    "Q15. How to install Python on Windows and set path variables?"
   ]
  },
  {
   "cell_type": "code",
   "execution_count": null,
   "id": "84d8ae62-ac16-4e77-813f-33934477c0ee",
   "metadata": {},
   "outputs": [],
   "source": [
    "1. Download the python executable file from official page corresponding to the OS and the bit version.\n",
    "2. Environment variable can be added to right clicking on \"This PC\""
   ]
  }
 ],
 "metadata": {
  "kernelspec": {
   "display_name": "Python 3 (ipykernel)",
   "language": "python",
   "name": "python3"
  },
  "language_info": {
   "codemirror_mode": {
    "name": "ipython",
    "version": 3
   },
   "file_extension": ".py",
   "mimetype": "text/x-python",
   "name": "python",
   "nbconvert_exporter": "python",
   "pygments_lexer": "ipython3",
   "version": "3.10.8"
  }
 },
 "nbformat": 4,
 "nbformat_minor": 5
}
