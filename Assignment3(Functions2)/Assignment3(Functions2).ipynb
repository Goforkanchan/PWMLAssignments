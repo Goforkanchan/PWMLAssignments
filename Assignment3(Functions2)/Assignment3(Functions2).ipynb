{
 "cells": [
  {
   "cell_type": "markdown",
   "id": "af74c96a-3d18-4183-b9c9-7d2e2c6cb7fc",
   "metadata": {},
   "source": [
    "Q1. Create a python program to sort the given list of tuples based on integer value using a\n",
    "lambda function."
   ]
  },
  {
   "cell_type": "code",
   "execution_count": 1,
   "id": "d1042509-5053-4f09-a1c8-075ff28ee4bb",
   "metadata": {},
   "outputs": [],
   "source": [
    "tup = [('Sachin Tendulkar', 34357), ('Ricky Ponting', 27483), ('Jack Kallis', 25534), ('Virat Kohli', 24936)]"
   ]
  },
  {
   "cell_type": "code",
   "execution_count": 2,
   "id": "61cb74a3-8c06-4af2-b907-d160cbd1133b",
   "metadata": {},
   "outputs": [],
   "source": [
    "tup.sort( key = lambda x : x[1])"
   ]
  },
  {
   "cell_type": "code",
   "execution_count": 3,
   "id": "a85276c4-2184-4876-8890-6058f0bb9629",
   "metadata": {},
   "outputs": [
    {
     "data": {
      "text/plain": [
       "[('Virat Kohli', 24936),\n",
       " ('Jack Kallis', 25534),\n",
       " ('Ricky Ponting', 27483),\n",
       " ('Sachin Tendulkar', 34357)]"
      ]
     },
     "execution_count": 3,
     "metadata": {},
     "output_type": "execute_result"
    }
   ],
   "source": [
    "tup\n"
   ]
  },
  {
   "cell_type": "markdown",
   "id": "218bef19-9f23-4b27-9ad8-bc1e56f28f27",
   "metadata": {},
   "source": [
    "Q2. Write a Python Program to find the squares of all the numbers in the given list of integers using\n",
    "lambda and map functions.\n",
    "[1, 2, 3, 4, 5, 6, 7, 8, 9, 10]"
   ]
  },
  {
   "cell_type": "code",
   "execution_count": 5,
   "id": "c55aca53-9ab9-495a-b6aa-cd078ac2350e",
   "metadata": {},
   "outputs": [],
   "source": [
    "li = [1, 2, 3, 4, 5, 6, 7, 8, 9, 10]"
   ]
  },
  {
   "cell_type": "code",
   "execution_count": 9,
   "id": "884528c5-26f9-480e-b13d-bc3d03d402a6",
   "metadata": {},
   "outputs": [
    {
     "data": {
      "text/plain": [
       "[1, 4, 9, 16, 25, 36, 49, 64, 81, 100]"
      ]
     },
     "execution_count": 9,
     "metadata": {},
     "output_type": "execute_result"
    }
   ],
   "source": [
    "f = list(map(lambda x : x*x, li))\n",
    "f"
   ]
  },
  {
   "cell_type": "markdown",
   "id": "0a5c5b02-1a9e-4947-b66e-b0b44490429a",
   "metadata": {},
   "source": [
    "map is used to modify every value of iterable, while filter is used to modify specific values of iterable."
   ]
  },
  {
   "cell_type": "markdown",
   "id": "c246f03c-cf85-43d1-b85a-5cf4d97af375",
   "metadata": {},
   "source": [
    "Q3. Write a python program to convert the given list of integers into a tuple of strings. Use map and\n",
    "lambda functions\n",
    "Given String: [1, 2, 3, 4, 5, 6, 7, 8, 9, 10]\n",
    "Expected output: ('1', '2', '3', '4', '5', '6', '7', '8', '9', '10')"
   ]
  },
  {
   "cell_type": "code",
   "execution_count": 13,
   "id": "21350445-daa6-4960-bfd9-f911907dddf6",
   "metadata": {},
   "outputs": [
    {
     "data": {
      "text/plain": [
       "['1', '2', '3', '4', '5', '6', '7', '8', '9', '10']"
      ]
     },
     "execution_count": 13,
     "metadata": {},
     "output_type": "execute_result"
    }
   ],
   "source": [
    "String =  [1, 2, 3, 4, 5, 6, 7, 8, 9, 10]\n",
    "String = list(map(lambda x: str(x), String))\n",
    "String"
   ]
  },
  {
   "cell_type": "markdown",
   "id": "c351946f-8cd4-4f82-887a-dda474231084",
   "metadata": {},
   "source": [
    "Q4. Write a python program using reduce function to compute the product of a list containing numbers\n",
    "from 1 to 25."
   ]
  },
  {
   "cell_type": "code",
   "execution_count": null,
   "id": "390681af-a664-488e-b163-0562f24908c0",
   "metadata": {},
   "outputs": [],
   "source": [
    "def product(x, y):\n",
    "    return x*y\n",
    "\n"
   ]
  },
  {
   "cell_type": "markdown",
   "id": "fe6bdac6-d57f-427e-adb0-7ae085fd94ff",
   "metadata": {},
   "source": [
    "Q5. Write a python program to filter the numbers in a given list that are divisible by 2 and 3 using the\n",
    "filter function.\n",
    "[2, 3, 6, 9, 27, 60, 90, 120, 55, 46]"
   ]
  },
  {
   "cell_type": "code",
   "execution_count": 18,
   "id": "07137429-9c49-4ee0-9e0b-78adffb86ed8",
   "metadata": {},
   "outputs": [
    {
     "data": {
      "text/plain": [
       "[6, 60, 90, 120]"
      ]
     },
     "execution_count": 18,
     "metadata": {},
     "output_type": "execute_result"
    }
   ],
   "source": [
    "li = [2, 3, 6, 9, 27, 60, 90, 120, 55, 46]\n",
    "li = list(filter(lambda x : x%2 == 0 and x%3 == 0, li))\n",
    "li"
   ]
  },
  {
   "cell_type": "markdown",
   "id": "0fde0c5d-4082-43cc-83c1-d7343c3a40db",
   "metadata": {},
   "source": [
    "Q6. Write a python program to find palindromes in the given list of strings using lambda and filter\n",
    "function.\n",
    "['python', 'php', 'aba', 'radar', 'level']"
   ]
  },
  {
   "cell_type": "code",
   "execution_count": 21,
   "id": "8c88bd9e-9135-4cbf-ab58-c3138f3de54e",
   "metadata": {},
   "outputs": [],
   "source": [
    "li = ['python', 'php', 'aba', 'radar', 'level']\n",
    "li = list(filter(lambda x : x == x[::-1], li))"
   ]
  },
  {
   "cell_type": "code",
   "execution_count": 22,
   "id": "1b9d10ee-0c01-433c-abe9-2717adaf94a3",
   "metadata": {},
   "outputs": [
    {
     "data": {
      "text/plain": [
       "['php', 'aba', 'radar', 'level']"
      ]
     },
     "execution_count": 22,
     "metadata": {},
     "output_type": "execute_result"
    }
   ],
   "source": [
    "li"
   ]
  },
  {
   "cell_type": "code",
   "execution_count": null,
   "id": "fd93fa3c-1b2f-452a-b74a-5f4f47d1b1e8",
   "metadata": {},
   "outputs": [],
   "source": []
  }
 ],
 "metadata": {
  "kernelspec": {
   "display_name": "Python 3 (ipykernel)",
   "language": "python",
   "name": "python3"
  },
  "language_info": {
   "codemirror_mode": {
    "name": "ipython",
    "version": 3
   },
   "file_extension": ".py",
   "mimetype": "text/x-python",
   "name": "python",
   "nbconvert_exporter": "python",
   "pygments_lexer": "ipython3",
   "version": "3.10.8"
  }
 },
 "nbformat": 4,
 "nbformat_minor": 5
}
