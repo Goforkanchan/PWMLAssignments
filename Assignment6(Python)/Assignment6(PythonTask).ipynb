{
 "cells": [
  {
   "cell_type": "markdown",
   "id": "43f835c2-3d3d-44c8-a4c5-980d652bc725",
   "metadata": {},
   "source": [
    "Q1. Write a program to accept percentage from the user and display the grade according to the given criteria\n",
    "\n"
   ]
  },
  {
   "cell_type": "code",
   "execution_count": 3,
   "id": "722ff045-99ab-4d8d-a36b-ed913e516b59",
   "metadata": {},
   "outputs": [
    {
     "name": "stdin",
     "output_type": "stream",
     "text": [
      "Enter percentage 56\n"
     ]
    },
    {
     "name": "stdout",
     "output_type": "stream",
     "text": [
      "Grade is D\n"
     ]
    }
   ],
   "source": [
    "percent = int(input(\"Enter percentage\"))\n",
    "Grade = str()\n",
    "if percent > 90:\n",
    "    Grade = 'A'\n",
    "elif percent > 80 and percent <= 90:\n",
    "    Grade = 'B'\n",
    "elif percent > 60 and percent <= 80:\n",
    "    Grade = 'C'\n",
    "else:\n",
    "    Grade = 'D'\n",
    "    \n",
    "print(\"Grade is\", Grade)"
   ]
  },
  {
   "cell_type": "markdown",
   "id": "03017bf1-e799-4dfe-a2fb-b848e8daba7a",
   "metadata": {},
   "source": [
    "Q2. Write a program to accept the cost price of a bike and display the road tax to be paid according to the details"
   ]
  },
  {
   "cell_type": "code",
   "execution_count": 4,
   "id": "8cd2d74c-adb6-4b82-9f69-6386c9512c47",
   "metadata": {},
   "outputs": [
    {
     "name": "stdin",
     "output_type": "stream",
     "text": [
      "Enter the cost price of bike 50000\n"
     ]
    },
    {
     "name": "stdout",
     "output_type": "stream",
     "text": [
      "Tax to be paid is  2500.0\n"
     ]
    }
   ],
   "source": [
    "percent = int(input(\"Enter the cost price of bike\"))\n",
    "Grade = 0\n",
    "tax = 0\n",
    "if percent > 100000:\n",
    "    Grade = 15\n",
    "    \n",
    "elif percent > 50000 and percent <= 100000:\n",
    "    Grade = 10\n",
    "else:\n",
    "    Grade = 5\n",
    "    \n",
    "tax = Grade*percent*0.01\n",
    "    \n",
    "print(\"Tax to be paid is \", tax)"
   ]
  },
  {
   "cell_type": "markdown",
   "id": "27a8418d-1615-40b3-af44-f725ef12c216",
   "metadata": {},
   "source": [
    "Q3. Accept any city from the user and display the monuments of that city"
   ]
  },
  {
   "cell_type": "code",
   "execution_count": 5,
   "id": "b06d8551-3cd1-4fe6-91d9-4c43f8629607",
   "metadata": {},
   "outputs": [
    {
     "name": "stdin",
     "output_type": "stream",
     "text": [
      "Enter name of city: Delhi\n"
     ]
    },
    {
     "name": "stdout",
     "output_type": "stream",
     "text": [
      "Red Fort\n"
     ]
    }
   ],
   "source": [
    "monuCity = {\"Delhi\": \"Red Fort\", \"Agra\" : \"Taj Mahal\", \"Jaipur\": \"Jal Mahal\"}\n",
    "city = input(\"Enter name of city:\")\n",
    "print(monuCity[city])"
   ]
  },
  {
   "cell_type": "markdown",
   "id": "a352963b-155f-4bed-b076-69ec0e171a18",
   "metadata": {},
   "source": [
    "Q4. Check how many times a given number can be divided by 3 before it is less than or equal to 10"
   ]
  },
  {
   "cell_type": "code",
   "execution_count": 6,
   "id": "3816d76f-c0a6-4ae4-b648-dd22e411753f",
   "metadata": {},
   "outputs": [
    {
     "name": "stdin",
     "output_type": "stream",
     "text": [
      "Enter a number 57\n"
     ]
    },
    {
     "name": "stdout",
     "output_type": "stream",
     "text": [
      "2\n"
     ]
    }
   ],
   "source": [
    "num = int(input(\"Enter a number\"))\n",
    "res = num\n",
    "count = 0\n",
    "while (res > 10):\n",
    "    res = res/3\n",
    "    count = count+1\n",
    "    \n",
    "print(count)"
   ]
  },
  {
   "cell_type": "markdown",
   "id": "858f4b3f-1efa-45ea-8625-e210b571af14",
   "metadata": {},
   "source": [
    "Q5. Why and when to use while loop in Python give a detailed description with example"
   ]
  },
  {
   "cell_type": "markdown",
   "id": "ddd27161-0f15-4f15-94cd-e017dcaecd2d",
   "metadata": {},
   "source": [
    "While loops can be used when there is some start condition that needs to be taken into consideration \n",
    "and it keeps on looping till certain condition is met."
   ]
  },
  {
   "cell_type": "code",
   "execution_count": 10,
   "id": "fc55a966-3de4-4d33-b478-2ccf868a4d51",
   "metadata": {},
   "outputs": [
    {
     "name": "stdin",
     "output_type": "stream",
     "text": [
      "Enter a number 99\n"
     ]
    },
    {
     "name": "stdout",
     "output_type": "stream",
     "text": [
      "3\n"
     ]
    }
   ],
   "source": [
    "num = int(input(\"Enter a number\"))\n",
    "res = num\n",
    "count = 0\n",
    "while (res > 10):\n",
    "    res = res/3\n",
    "    count = count+1\n",
    "    \n",
    "print(count)\n"
   ]
  },
  {
   "cell_type": "markdown",
   "id": "664b1818-701c-4315-bea8-9ae67c517320",
   "metadata": {},
   "source": [
    "Q6. Use nested while loop to print 3 different patterns\n",
    "\n"
   ]
  },
  {
   "cell_type": "code",
   "execution_count": 20,
   "id": "756a28ce-1cde-440c-a1cb-ee2bffd0e5ca",
   "metadata": {},
   "outputs": [
    {
     "name": "stdout",
     "output_type": "stream",
     "text": [
      "1\t\n",
      "1\t2\t\n",
      "1\t2\t3\t\n",
      "1\t2\t3\t4\t\n"
     ]
    }
   ],
   "source": [
    "i = 1\n",
    "while (i < 5):\n",
    "    j = 1\n",
    "    while (j <= i):\n",
    "        print(j, end = '\\t')\n",
    "        j = j+1\n",
    "    print()\n",
    "    i = i+1"
   ]
  },
  {
   "cell_type": "code",
   "execution_count": 34,
   "id": "144b7e59-16e9-4d99-8d92-b8195e947993",
   "metadata": {
    "tags": []
   },
   "outputs": [
    {
     "name": "stdout",
     "output_type": "stream",
     "text": [
      "     \n",
      "    * \n",
      "   * * \n",
      "  * * * \n",
      " * * * * \n",
      "* * * * * \n"
     ]
    }
   ],
   "source": [
    "i = 0\n",
    "while(i <= 5):\n",
    "  print(\" \" * (5 - i) +\"* \" * i)\n",
    "  i = i + 1"
   ]
  },
  {
   "cell_type": "code",
   "execution_count": 24,
   "id": "8ee5cadb-22b1-44f4-a300-03ebc356e578",
   "metadata": {},
   "outputs": [
    {
     "name": "stdout",
     "output_type": "stream",
     "text": [
      "5\t\n",
      "5\t4\t\n",
      "5\t4\t3\t\n",
      "5\t4\t3\t2\t\n",
      "5\t4\t3\t2\t1\t\n"
     ]
    }
   ],
   "source": [
    "i = 5\n",
    "while (i > 0):\n",
    "    j = 5\n",
    "    while (j >= i):\n",
    "        print(j, end = '\\t')\n",
    "        j = j-1\n",
    "    print()\n",
    "    i = i-1"
   ]
  },
  {
   "cell_type": "markdown",
   "id": "8e254d77-a1fb-4442-a590-870bc437f858",
   "metadata": {},
   "source": [
    "Q7. Reverse a while loop to display numbers from 10 to 1."
   ]
  },
  {
   "cell_type": "code",
   "execution_count": 11,
   "id": "18c432a6-44dd-4095-a617-65aa1bf80ec8",
   "metadata": {},
   "outputs": [
    {
     "name": "stdout",
     "output_type": "stream",
     "text": [
      "10\n",
      "9\n",
      "8\n",
      "7\n",
      "6\n",
      "5\n",
      "4\n",
      "3\n",
      "2\n",
      "1\n"
     ]
    }
   ],
   "source": [
    "i = 10\n",
    "while(i > 0):\n",
    "    print(i)\n",
    "    i = i-1\n",
    "    "
   ]
  },
  {
   "cell_type": "code",
   "execution_count": null,
   "id": "0e7b298f-5f03-4fd1-b44e-d2de9de9339d",
   "metadata": {},
   "outputs": [],
   "source": []
  }
 ],
 "metadata": {
  "kernelspec": {
   "display_name": "Python 3 (ipykernel)",
   "language": "python",
   "name": "python3"
  },
  "language_info": {
   "codemirror_mode": {
    "name": "ipython",
    "version": 3
   },
   "file_extension": ".py",
   "mimetype": "text/x-python",
   "name": "python",
   "nbconvert_exporter": "python",
   "pygments_lexer": "ipython3",
   "version": "3.10.8"
  }
 },
 "nbformat": 4,
 "nbformat_minor": 5
}
