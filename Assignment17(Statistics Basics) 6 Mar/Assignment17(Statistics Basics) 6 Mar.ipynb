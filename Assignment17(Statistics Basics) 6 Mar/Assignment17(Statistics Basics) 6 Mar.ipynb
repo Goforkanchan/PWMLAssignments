{
 "cells": [
  {
   "cell_type": "markdown",
   "id": "1339876a-c07e-4452-b3c9-93834c6ccb6c",
   "metadata": {},
   "source": [
    "Q1. What is Statistics?"
   ]
  },
  {
   "cell_type": "markdown",
   "id": "11200cc3-7efc-4ff9-bfa7-08c8825a763c",
   "metadata": {},
   "source": [
    "Statistics is a science of organizing, summarizing and analyzing the data"
   ]
  },
  {
   "cell_type": "markdown",
   "id": "77a942b1-e418-40df-aeff-35ee972681c6",
   "metadata": {},
   "source": [
    "Q2. Define the different types of statistics and give an example of when each type might be used."
   ]
  },
  {
   "cell_type": "markdown",
   "id": "1b31958d-7b32-4e92-9f2c-67d4db7f68ed",
   "metadata": {},
   "source": [
    "Descriptive and Inferential are two types of statistics.\n",
    "Descriptive --> Can be used to summarize and organize the data. Ex: Height of students: Avg, Most frequent\n",
    "Inferential --> Can be used to derive conclusions out of the measured data. Ex: Is height of student as expected?"
   ]
  },
  {
   "cell_type": "markdown",
   "id": "9d0656e0-a128-447e-a854-3be04e9ddbce",
   "metadata": {},
   "source": [
    "Q3. What are the different types of data and how do they differ from each other? Provide an example of\n",
    "each type of data."
   ]
  },
  {
   "cell_type": "markdown",
   "id": "481a795b-c37a-4e67-ac89-2e911d779179",
   "metadata": {},
   "source": [
    "There are two types of statistics:\n",
    "1. Quantitative --> Has numerical value. Ex: Price of car, Speed of car\n",
    "2. Qualitative --> Has non-numerical value. Ex: Gender, Rank"
   ]
  },
  {
   "cell_type": "markdown",
   "id": "4a9a4c3b-2ba1-4c67-a704-84a2921ecdc4",
   "metadata": {},
   "source": [
    "Q4. Categorise the following datasets with respect to quantitative and qualitative data types:\n",
    "(i) Grading in exam: A+, A, B+, B, C+, C, D, E\n",
    "(ii) Colour of mangoes: yellow, green, orange, red\n",
    "(iii) Height data of a class: [178.9, 179, 179.5, 176, 177.2, 178.3, 175.8,...]\n",
    "(iv) Number of mangoes exported by a farm: [500, 600, 478, 672, ...]"
   ]
  },
  {
   "cell_type": "markdown",
   "id": "22998bfa-2d5a-4d00-b6f8-8242fd402f53",
   "metadata": {},
   "source": [
    "(i) Grading in exam: A+, A, B+, B, C+, C, D, E --> Ordinal\n",
    "(ii) Colour of mangoes: yellow, green, orange, red --> Nominal\n",
    "(iii) Height data of a class: [178.9, 179, 179.5, 176, 177.2, 178.3, 175.8,...] --> Continuous\n",
    "(iv) Number of mangoes exported by a farm: [500, 600, 478, 672, ...] --> Discrete"
   ]
  },
  {
   "cell_type": "markdown",
   "id": "58ba292c-d770-4b72-ac26-e1d7cb7581f8",
   "metadata": {},
   "source": [
    "Q5. Explain the concept of levels of measurement and give an example of a variable for each level."
   ]
  },
  {
   "cell_type": "markdown",
   "id": "2aa7c237-cfe4-48f7-86f1-c20d7d4ba0f1",
   "metadata": {},
   "source": [
    "1. NOminal Scale Data : \n",
    "Order doesn't matter. Are categorical variables. Ex: Gender\n",
    "2. Ordinal scale Data:\n",
    "Order matters. \n",
    "Difference can't be measured. Ex: Rank of students in class\n",
    "3. Interval Scale Data:\n",
    "Order matter. Difference can be measured but ratio cannot. Ex: Temperatures\n",
    "4. Ratio Scale Data:\n",
    "Order matter. Difference and ratio both can be measured. Ex: Grades"
   ]
  },
  {
   "cell_type": "markdown",
   "id": "bffa3894-4d93-4fc0-b10d-857fdff1ea20",
   "metadata": {},
   "source": [
    "Q6. Why is it important to understand the level of measurement when analyzing data? Provide an\n",
    "example to illustrate your answer."
   ]
  },
  {
   "cell_type": "markdown",
   "id": "d13bfcbe-89e6-44d8-a308-deeb97be20c8",
   "metadata": {},
   "source": [
    "It is important to understand the level of measurement because it helps us to distinguish variables with different properties.\n",
    "It helps us to analyze the data easily. "
   ]
  },
  {
   "cell_type": "markdown",
   "id": "365a5c50-3cc4-46c9-90ab-6116a317985c",
   "metadata": {},
   "source": [
    "Q7. How nominal data type is different from ordinal data type."
   ]
  },
  {
   "cell_type": "markdown",
   "id": "8005d500-9e9a-4469-a964-02bf49a2f1fb",
   "metadata": {},
   "source": [
    "Nominal and ordinal both are qualitative kind of data. Nominal data has fixed number of categories and rank doesn't matter.\n",
    "But ordinal data has categories based on rank."
   ]
  },
  {
   "cell_type": "markdown",
   "id": "90b37bdd-149e-4310-b304-fdbc47ef6dc7",
   "metadata": {},
   "source": [
    "Q8. Which type of plot can be used to display data in terms of range?"
   ]
  },
  {
   "cell_type": "markdown",
   "id": "ecbb9e50-4196-4f7b-a219-38e4a9788daa",
   "metadata": {},
   "source": [
    "Box plot"
   ]
  },
  {
   "cell_type": "markdown",
   "id": "b40585a6-9079-4620-be91-135ac62dc328",
   "metadata": {},
   "source": [
    "Q9. Describe the difference between descriptive and inferential statistics. Give an example of each\n",
    "type of statistics and explain how they are used."
   ]
  },
  {
   "cell_type": "markdown",
   "id": "fabd9f5c-87e0-4471-bae5-e152b73ba6e7",
   "metadata": {},
   "source": [
    "Same as 2"
   ]
  },
  {
   "cell_type": "markdown",
   "id": "cbb1dc03-ca05-48d1-94b4-7596c471a0cc",
   "metadata": {},
   "source": [
    "Q10. What are some common measures of central tendency and variability used in statistics? Explain\n",
    "how each measure can be used to describe a dataset."
   ]
  },
  {
   "cell_type": "code",
   "execution_count": null,
   "id": "9989d0ed-00cc-41a7-bc5e-cbd847038e05",
   "metadata": {},
   "outputs": [],
   "source": [
    "Mean, median, Mode are measures of central tendency.\n",
    "Variance, standard deviation are measures of variability.\n",
    "Mean is used to find the average value.\n",
    "Median gives the middle of the dataset.\n",
    "Mode gives the value occurring most frequently.\n",
    "Variance tells how far a value if from mean.\n",
    "Standard deviation tells "
   ]
  }
 ],
 "metadata": {
  "kernelspec": {
   "display_name": "Python 3 (ipykernel)",
   "language": "python",
   "name": "python3"
  },
  "language_info": {
   "codemirror_mode": {
    "name": "ipython",
    "version": 3
   },
   "file_extension": ".py",
   "mimetype": "text/x-python",
   "name": "python",
   "nbconvert_exporter": "python",
   "pygments_lexer": "ipython3",
   "version": "3.10.8"
  }
 },
 "nbformat": 4,
 "nbformat_minor": 5
}
