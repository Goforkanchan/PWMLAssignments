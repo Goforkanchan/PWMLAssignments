{
 "cells": [
  {
   "cell_type": "markdown",
   "id": "f2df7972-47e9-4b34-9b2b-7d328fa53d0e",
   "metadata": {},
   "source": [
    "Q1. Create a function which will take a list as an argument and return the product of all the numbers\n",
    "after creating a flat list.\n",
    "\n",
    "Use the below-given list as an argument for your function.\n",
    "\n"
   ]
  },
  {
   "cell_type": "code",
   "execution_count": 1,
   "id": "eefb4411-b608-4a46-afd7-e212ec3ad020",
   "metadata": {},
   "outputs": [],
   "source": [
    "list1 = [1,2,3,4, [44,55,66, True], False, (34,56,78,89,34), {1,2,3,3,2,1}, {1:34, \"key2\": [55, 67, 78, 89], 4: (45,\n",
    "22, 61, 34)}, [56, 'data science'], 'Machine Learning']"
   ]
  },
  {
   "cell_type": "code",
   "execution_count": 7,
   "id": "2e3cd4d5-e3fe-42d7-973d-0bacffb8036e",
   "metadata": {},
   "outputs": [
    {
     "data": {
      "text/plain": [
       "[1,\n",
       " 2,\n",
       " 3,\n",
       " 4,\n",
       " [44, 55, 66, True],\n",
       " False,\n",
       " (34, 56, 78, 89, 34),\n",
       " {1, 2, 3},\n",
       " {1: 34, 'key2': [55, 67, 78, 89], 4: (45, 22, 61, 34)},\n",
       " [56, 'data science'],\n",
       " 'Machine Learning']"
      ]
     },
     "execution_count": 7,
     "metadata": {},
     "output_type": "execute_result"
    }
   ],
   "source": [
    "list1\n"
   ]
  },
  {
   "cell_type": "code",
   "execution_count": 12,
   "id": "662357ff-c80d-46da-b97d-af0a37b914ca",
   "metadata": {},
   "outputs": [
    {
     "name": "stdout",
     "output_type": "stream",
     "text": [
      "59227361237697261325516800\n"
     ]
    }
   ],
   "source": [
    "product = 1\n",
    "\n",
    "for item in list1:\n",
    "    if type(item) == bool:\n",
    "        continue\n",
    "    elif type(item) ==  int:\n",
    "        product = product * item\n",
    "    elif type(item) == list or type(item) == tuple or type(item) == set:\n",
    "        for i in item:\n",
    "            if isinstance(i, int):\n",
    "                product *= i\n",
    "    elif type(item) == dict:\n",
    "        for i in item.keys():\n",
    "            if type(i) == int:\n",
    "                product *= i\n",
    "            else:\n",
    "                for j in item[i]:\n",
    "                    if type(j)  == int:\n",
    "                        product *= j\n",
    "print(product)\n",
    "        \n"
   ]
  },
  {
   "cell_type": "markdown",
   "id": "0d233d4a-50b5-4fc5-a657-673792f0cf2b",
   "metadata": {},
   "source": [
    "Q2. Write a python program for encrypting a message sent to you by your friend. The logic of encryption\n",
    "should be such that, for a the output should be z. For b, the output should be y. For c, the output should\n",
    "be x respectively. Also, the whitespace should be replaced with a dollar sign. Keep the punctuation\n",
    "marks unchanged.\n",
    "\n",
    "Input Sentence: I want to become a Data Scientist.\n",
    "Encrypt the above input sentence using the program you just created.\n",
    "Note: Convert the given input sentence into lowercase before encrypting. The final output should be lowercase."
   ]
  },
  {
   "cell_type": "code",
   "execution_count": 5,
   "id": "2162e831-c2b4-404e-a67a-60900863d35c",
   "metadata": {},
   "outputs": [
    {
     "ename": "ValueError",
     "evalue": "chr() arg not in range(0x110000)",
     "output_type": "error",
     "traceback": [
      "\u001b[0;31m---------------------------------------------------------------------------\u001b[0m",
      "\u001b[0;31mValueError\u001b[0m                                Traceback (most recent call last)",
      "Cell \u001b[0;32mIn[5], line 10\u001b[0m\n\u001b[1;32m      8\u001b[0m         res \u001b[38;5;241m=\u001b[39m res \u001b[38;5;241m+\u001b[39m ch\n\u001b[1;32m      9\u001b[0m     \u001b[38;5;28;01melse\u001b[39;00m:\n\u001b[0;32m---> 10\u001b[0m         res \u001b[38;5;241m=\u001b[39m res \u001b[38;5;241m+\u001b[39m \u001b[38;5;28;43mchr\u001b[39;49m\u001b[43m(\u001b[49m\u001b[38;5;241;43m122\u001b[39;49m\u001b[43m \u001b[49m\u001b[38;5;241;43m-\u001b[39;49m\u001b[43m \u001b[49m\u001b[38;5;28;43mord\u001b[39;49m\u001b[43m(\u001b[49m\u001b[43mch\u001b[49m\u001b[43m)\u001b[49m\u001b[43m \u001b[49m\u001b[38;5;241;43m-\u001b[39;49m\u001b[43m \u001b[49m\u001b[38;5;241;43m97\u001b[39;49m\u001b[43m)\u001b[49m\n\u001b[1;32m     11\u001b[0m \u001b[38;5;28mprint\u001b[39m(res, msg)\n",
      "\u001b[0;31mValueError\u001b[0m: chr() arg not in range(0x110000)"
     ]
    }
   ],
   "source": [
    "msg = \"I want to become a Data Scientist.\"\n",
    "msg = msg.lower()\n",
    "res = str()\n",
    "for ch in msg:\n",
    "    if ch == ' ':\n",
    "        res = res + '$'\n",
    "    elif ord(ch) < 97 or ord(ch) > 122:\n",
    "        res = res + ch\n",
    "    else:\n",
    "        res = res + chr(122 - ord(ch) - 97)\n",
    "print(res, msg)\n",
    "    "
   ]
  },
  {
   "cell_type": "code",
   "execution_count": null,
   "id": "11789a7c-2b3f-439e-abf6-b2ec7d220116",
   "metadata": {},
   "outputs": [],
   "source": []
  }
 ],
 "metadata": {
  "kernelspec": {
   "display_name": "Python 3 (ipykernel)",
   "language": "python",
   "name": "python3"
  },
  "language_info": {
   "codemirror_mode": {
    "name": "ipython",
    "version": 3
   },
   "file_extension": ".py",
   "mimetype": "text/x-python",
   "name": "python",
   "nbconvert_exporter": "python",
   "pygments_lexer": "ipython3",
   "version": "3.10.8"
  }
 },
 "nbformat": 4,
 "nbformat_minor": 5
}
